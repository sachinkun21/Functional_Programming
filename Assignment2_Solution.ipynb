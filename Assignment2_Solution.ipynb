{
  "nbformat": 4,
  "nbformat_minor": 0,
  "metadata": {
    "colab": {
      "name": "Assignment2 Solution.ipynb",
      "provenance": [],
      "collapsed_sections": [],
      "authorship_tag": "ABX9TyNYF2AcO6gvC/2aRKGPxAhA",
      "include_colab_link": true
    },
    "kernelspec": {
      "name": "python3",
      "display_name": "Python 3"
    }
  },
  "cells": [
    {
      "cell_type": "markdown",
      "metadata": {
        "id": "view-in-github",
        "colab_type": "text"
      },
      "source": [
        "<a href=\"https://colab.research.google.com/github/sachinkun21/Functional_Programming/blob/master/Assignment2_Solution.ipynb\" target=\"_parent\"><img src=\"https://colab.research.google.com/assets/colab-badge.svg\" alt=\"Open In Colab\"/></a>"
      ]
    },
    {
      "cell_type": "markdown",
      "metadata": {
        "id": "GC7e3MM1tqxW",
        "colab_type": "text"
      },
      "source": [
        "1. Create the below pattern using nested for loop in Python:\n",
        "          *\n",
        "          * *\n",
        "          * * *\n",
        "          * * * *\n",
        "          * * * * *\n",
        "          * * * *\n",
        "          * * *\n",
        "          * *\n",
        "          *"
      ]
    },
    {
      "cell_type": "code",
      "metadata": {
        "id": "cZTROfGDtboD",
        "colab_type": "code",
        "colab": {
          "base_uri": "https://localhost:8080/",
          "height": 170
        },
        "outputId": "9b3855f9-f550-4207-d017-c748243bfd67"
      },
      "source": [
        "def pattern():\n",
        "  str1 = ''\n",
        "  for i in range(1,10):\n",
        "    if i<=5:\n",
        "      str1 = str1+'*'+' '\n",
        "      print(str1)\n",
        "    else:\n",
        "      str1= str1[:-2]\n",
        "      print(str1)\n",
        "\n",
        "pattern()"
      ],
      "execution_count": 7,
      "outputs": [
        {
          "output_type": "stream",
          "text": [
            "* \n",
            "* * \n",
            "* * * \n",
            "* * * * \n",
            "* * * * * \n",
            "* * * * \n",
            "* * * \n",
            "* * \n",
            "* \n"
          ],
          "name": "stdout"
        }
      ]
    },
    {
      "cell_type": "markdown",
      "metadata": {
        "id": "kmfv6VYwtlIa",
        "colab_type": "text"
      },
      "source": [
        "\n",
        "\n",
        "2. Write a Python program to reverse a word after accepting the input from the user.\n",
        "\n",
        "Input word: ineuron\n",
        "Output: norueni"
      ]
    },
    {
      "cell_type": "code",
      "metadata": {
        "id": "GGEbvOs6tmvN",
        "colab_type": "code",
        "colab": {
          "base_uri": "https://localhost:8080/",
          "height": 34
        },
        "outputId": "2ac7bc93-f370-4fc7-b9f6-46bef567c6aa"
      },
      "source": [
        "def ret_reverse(word):\n",
        "  return word[::-1]\n",
        "\n",
        "print(ret_reverse('ineuron'))"
      ],
      "execution_count": 8,
      "outputs": [
        {
          "output_type": "stream",
          "text": [
            "norueni\n"
          ],
          "name": "stdout"
        }
      ]
    }
  ]
}