{
  "nbformat": 4,
  "nbformat_minor": 0,
  "metadata": {
    "colab": {
      "name": "Assignment 3.ipynb",
      "provenance": [],
      "collapsed_sections": [],
      "authorship_tag": "ABX9TyMxiwKdWqQCoIiXt2xbeRSL",
      "include_colab_link": true
    },
    "kernelspec": {
      "name": "python3",
      "display_name": "Python 3"
    }
  },
  "cells": [
    {
      "cell_type": "markdown",
      "metadata": {
        "id": "view-in-github",
        "colab_type": "text"
      },
      "source": [
        "<a href=\"https://colab.research.google.com/github/sachinkun21/Functional_Programming/blob/master/Assignment_3.ipynb\" target=\"_parent\"><img src=\"https://colab.research.google.com/assets/colab-badge.svg\" alt=\"Open In Colab\"/></a>"
      ]
    },
    {
      "cell_type": "markdown",
      "metadata": {
        "id": "V0d59MoOLHOd",
        "colab_type": "text"
      },
      "source": [
        "1.1 Write a Python Program to implement your own myreduce() function which works exactly like Python's built-in function reduce()"
      ]
    },
    {
      "cell_type": "code",
      "metadata": {
        "id": "Ypl3oyecAAvw",
        "colab_type": "code",
        "colab": {
          "base_uri": "https://localhost:8080/",
          "height": 51
        },
        "outputId": "07e92f7e-66d9-491a-a1b0-2861ef21d754"
      },
      "source": [
        "def sum_func(first, second):\n",
        "    return first + second\n",
        "\n",
        "\n",
        "def myreduce(any_func, iterable):\n",
        "  value = iterable[0]\n",
        "  for i in iterable[1:]:\n",
        "    value = any_func(value,i)\n",
        "  return value\n",
        "\n",
        "numbers = [3, 4, 6, 9, 34, 12]\n",
        "\n",
        "# any custom function as input\n",
        "result = myreduce(sum_func, numbers)\n",
        "print(result)\n",
        "\n",
        "# Lambda function as input\n",
        "result = myreduce(lambda x1,x2: x1+x2, numbers)\n",
        "print(result)"
      ],
      "execution_count": 1,
      "outputs": [
        {
          "output_type": "stream",
          "text": [
            "68\n",
            "68\n"
          ],
          "name": "stdout"
        }
      ]
    },
    {
      "cell_type": "code",
      "metadata": {
        "id": "TVqrH_E-OCc9",
        "colab_type": "code",
        "colab": {
          "base_uri": "https://localhost:8080/",
          "height": 34
        },
        "outputId": "31698ae8-17f4-4f39-837a-bcc49349e705"
      },
      "source": [
        "[]+[8]+[9]"
      ],
      "execution_count": 2,
      "outputs": [
        {
          "output_type": "execute_result",
          "data": {
            "text/plain": [
              "[8, 9]"
            ]
          },
          "metadata": {
            "tags": []
          },
          "execution_count": 2
        }
      ]
    },
    {
      "cell_type": "markdown",
      "metadata": {
        "id": "oldeOPPoADK1",
        "colab_type": "text"
      },
      "source": [
        "\n",
        "\n",
        "1.2 Write a Python program to implement your own myfilter() function which works exactly\n",
        "like Python's built-in function filter()\n"
      ]
    },
    {
      "cell_type": "code",
      "metadata": {
        "id": "rJncE3lqNwXZ",
        "colab_type": "code",
        "colab": {
          "base_uri": "https://localhost:8080/",
          "height": 34
        },
        "outputId": "c475a6be-877b-4d80-90b2-ccf5eca96f89"
      },
      "source": [
        "def myfilter(any_func, iterable):\n",
        "  new_iter = type(iterable)()\n",
        "  for i in iterable:\n",
        "    if any_func(i):\n",
        "      new_iter.append(i)\n",
        "  return new_iter\n",
        "\n",
        "\n",
        "numbers = [3, 4, 6, 9, 34, 12]\n",
        "myfilter(lambda x: x>4, numbers)"
      ],
      "execution_count": 3,
      "outputs": [
        {
          "output_type": "execute_result",
          "data": {
            "text/plain": [
              "[6, 9, 34, 12]"
            ]
          },
          "metadata": {
            "tags": []
          },
          "execution_count": 3
        }
      ]
    },
    {
      "cell_type": "markdown",
      "metadata": {
        "id": "P3iAhRMGNwx0",
        "colab_type": "text"
      },
      "source": [
        "\n",
        "Q 2. Implement List comprehensions to produce the following lists.\n",
        "Write List comprehensions to produce the following Lists:\n",
        "\n",
        "['A', 'C', 'A', 'D', 'G', 'I', ’L’, ‘ D’]\n",
        "\n",
        "['x', 'xx', 'xxx', 'xxxx', 'y', 'yy', 'yyy', 'yyyy', 'z', 'zz', 'zzz', 'zzzz']\n",
        "\n",
        "['x', 'y', 'z', 'xx', 'yy', 'zz', 'xxx', 'yyy', 'zzz', 'xxxx', 'yyyy', 'zzzz']\n",
        "\n",
        "[[2], [3], [4], [3], [4], [5], [4], [5], [6]] \n",
        "\n",
        "[[2, 3, 4, 5], [3, 4, 5, 6],[4, 5, 6, 7], [5, 6, 7, 8]]\n",
        "\n",
        "[(1, 1), (2, 1), (3, 1), (1, 2), (2, 2), (3, 2), (1, 3), (2, 3), (3, 3)]"
      ]
    },
    {
      "cell_type": "code",
      "metadata": {
        "id": "LaDNqgzmAD3S",
        "colab_type": "code",
        "colab": {
          "base_uri": "https://localhost:8080/",
          "height": 34
        },
        "outputId": "f31ad0f2-3db7-4493-9057-726cc0ac7595"
      },
      "source": [
        "[i for i in 'ACADGILD']"
      ],
      "execution_count": 4,
      "outputs": [
        {
          "output_type": "execute_result",
          "data": {
            "text/plain": [
              "['A', 'C', 'A', 'D', 'G', 'I', 'L', 'D']"
            ]
          },
          "metadata": {
            "tags": []
          },
          "execution_count": 4
        }
      ]
    },
    {
      "cell_type": "code",
      "metadata": {
        "id": "3MVA0_ESPTwA",
        "colab_type": "code",
        "colab": {
          "base_uri": "https://localhost:8080/",
          "height": 34
        },
        "outputId": "46542a82-5201-436f-9f58-081cc6e1d765"
      },
      "source": [
        "[x*i for x in 'xyz' for i in range(1,5)]"
      ],
      "execution_count": 5,
      "outputs": [
        {
          "output_type": "execute_result",
          "data": {
            "text/plain": [
              "['x', 'xx', 'xxx', 'xxxx', 'y', 'yy', 'yyy', 'yyyy', 'z', 'zz', 'zzz', 'zzzz']"
            ]
          },
          "metadata": {
            "tags": []
          },
          "execution_count": 5
        }
      ]
    },
    {
      "cell_type": "code",
      "metadata": {
        "id": "m5oHaZrSPaKU",
        "colab_type": "code",
        "colab": {
          "base_uri": "https://localhost:8080/",
          "height": 34
        },
        "outputId": "0ee3e18a-467c-401c-e701-4eb6db2a93a9"
      },
      "source": [
        "[x*i  for i in range(1,5) for x in 'xyz']"
      ],
      "execution_count": 6,
      "outputs": [
        {
          "output_type": "execute_result",
          "data": {
            "text/plain": [
              "['x', 'y', 'z', 'xx', 'yy', 'zz', 'xxx', 'yyy', 'zzz', 'xxxx', 'yyyy', 'zzzz']"
            ]
          },
          "metadata": {
            "tags": []
          },
          "execution_count": 6
        }
      ]
    },
    {
      "cell_type": "code",
      "metadata": {
        "id": "Z1ATtUfWQYtU",
        "colab_type": "code",
        "colab": {
          "base_uri": "https://localhost:8080/",
          "height": 34
        },
        "outputId": "90b2ffc9-ce35-4f0c-b87e-41b79e0440cf"
      },
      "source": [
        "[[j+i] for i in range(0,3) for j in range(2,5)]"
      ],
      "execution_count": 7,
      "outputs": [
        {
          "output_type": "execute_result",
          "data": {
            "text/plain": [
              "[[2], [3], [4], [3], [4], [5], [4], [5], [6]]"
            ]
          },
          "metadata": {
            "tags": []
          },
          "execution_count": 7
        }
      ]
    },
    {
      "cell_type": "code",
      "metadata": {
        "id": "zbEzD3RtPywc",
        "colab_type": "code",
        "colab": {
          "base_uri": "https://localhost:8080/",
          "height": 34
        },
        "outputId": "915cbb34-dbf5-4dd7-8291-7a9da7c0abcc"
      },
      "source": [
        "[[i+j for i in range(2,6)] for  j in range(0,4)]"
      ],
      "execution_count": 8,
      "outputs": [
        {
          "output_type": "execute_result",
          "data": {
            "text/plain": [
              "[[2, 3, 4, 5], [3, 4, 5, 6], [4, 5, 6, 7], [5, 6, 7, 8]]"
            ]
          },
          "metadata": {
            "tags": []
          },
          "execution_count": 8
        }
      ]
    },
    {
      "cell_type": "code",
      "metadata": {
        "id": "489gMyBqQJxh",
        "colab_type": "code",
        "colab": {
          "base_uri": "https://localhost:8080/",
          "height": 34
        },
        "outputId": "6d4a4ce5-d62b-4dd0-ec23-472f92ac6b77"
      },
      "source": [
        "[(j,i) for i in range(1,4) for j in range(1,4)]"
      ],
      "execution_count": 9,
      "outputs": [
        {
          "output_type": "execute_result",
          "data": {
            "text/plain": [
              "[(1, 1), (2, 1), (3, 1), (1, 2), (2, 2), (3, 2), (1, 3), (2, 3), (3, 3)]"
            ]
          },
          "metadata": {
            "tags": []
          },
          "execution_count": 9
        }
      ]
    },
    {
      "cell_type": "code",
      "metadata": {
        "id": "rqspZEzqQGis",
        "colab_type": "code",
        "colab": {}
      },
      "source": [
        ""
      ],
      "execution_count": 0,
      "outputs": []
    }
  ]
}