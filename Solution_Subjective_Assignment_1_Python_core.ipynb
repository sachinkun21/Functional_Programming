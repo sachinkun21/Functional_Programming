{
  "nbformat": 4,
  "nbformat_minor": 0,
  "metadata": {
    "kernelspec": {
      "display_name": "Python 3",
      "language": "python",
      "name": "python3"
    },
    "language_info": {
      "codemirror_mode": {
        "name": "ipython",
        "version": 3
      },
      "file_extension": ".py",
      "mimetype": "text/x-python",
      "name": "python",
      "nbconvert_exporter": "python",
      "pygments_lexer": "ipython3",
      "version": "3.7.4"
    },
    "colab": {
      "name": "Solution: Subjective Assignment - 1- Python core.ipynb",
      "provenance": [],
      "collapsed_sections": [],
      "include_colab_link": true
    }
  },
  "cells": [
    {
      "cell_type": "markdown",
      "metadata": {
        "id": "view-in-github",
        "colab_type": "text"
      },
      "source": [
        "<a href=\"https://colab.research.google.com/github/sachinkun21/Functional_Programming/blob/master/Solution_Subjective_Assignment_1_Python_core.ipynb\" target=\"_parent\"><img src=\"https://colab.research.google.com/assets/colab-badge.svg\" alt=\"Open In Colab\"/></a>"
      ]
    },
    {
      "cell_type": "markdown",
      "metadata": {
        "id": "lU0o5I0d7IMW",
        "colab_type": "text"
      },
      "source": [
        "Q1. Write a Python program to get the string from the given string where\n",
        "all the occurrence of its first char has been changed to '$,' except first\n",
        "char itself?\n",
        "\n",
        "    Sample String: 'prospect'\n",
        "    Expected Result : 'pros$ect'\n"
      ]
    },
    {
      "cell_type": "code",
      "metadata": {
        "id": "4KlIKCNA7jMZ",
        "colab_type": "code",
        "outputId": "07b5e94e-32d3-46db-e4ec-4dc0cd0ea0b5",
        "colab": {
          "base_uri": "https://localhost:8080/",
          "height": 34
        }
      },
      "source": [
        "str2 = ''\n",
        "for i in str1:\n",
        "  if i not in str2:\n",
        "    str2+=i\n",
        "  else:\n",
        "    str2+='$'\n",
        "str2"
      ],
      "execution_count": 0,
      "outputs": [
        {
          "output_type": "execute_result",
          "data": {
            "text/plain": [
              "{'c', 'e', 'o', 'p', 'r', 's', 't'}"
            ]
          },
          "metadata": {
            "tags": []
          },
          "execution_count": 1
        }
      ]
    },
    {
      "cell_type": "markdown",
      "metadata": {
        "id": "vmS6DU3T7IMv",
        "colab_type": "text"
      },
      "source": [
        "Q2. Write a Python program to get the single string from the two given\n",
        "strings, and separated by the space and swap the first two characters of\n",
        "each string?\n",
        "\n",
        "    Sample String : 'abc', 'xyz'.\n",
        "    Expected Result: 'xyc abz'"
      ]
    },
    {
      "cell_type": "code",
      "metadata": {
        "id": "g51ao08v7IMx",
        "colab_type": "code",
        "outputId": "9b111629-7d4f-41d1-973a-0b4e90ef792d",
        "colab": {
          "base_uri": "https://localhost:8080/",
          "height": 34
        }
      },
      "source": [
        "str1, str2 = 'abc' , 'xyz'\n",
        "#[string[-1]+string[1:-1]+string[0] for string in [str1,str2]][::-1]\n",
        "\n",
        "# str_rev = ' '.join([string for string in [str1,str2]][::-1])\n",
        "# str_rev[-1]+str_rev[1:-1]+str_rev[0]\n",
        "str_rev = (str2[:-1]+str1[-1]+\" \"+str1[:-1]+str2[-1])\n",
        "str_rev"
      ],
      "execution_count": 0,
      "outputs": [
        {
          "output_type": "execute_result",
          "data": {
            "text/plain": [
              "'xyc abz'"
            ]
          },
          "metadata": {
            "tags": []
          },
          "execution_count": 20
        }
      ]
    },
    {
      "cell_type": "markdown",
      "metadata": {
        "id": "6T6m4oXf7IM_",
        "colab_type": "text"
      },
      "source": [
        "Q3. Write the Python program to add 'ing' at the end of the given string\n",
        "(length of the string should be at least 3). If given string already ends\n",
        "with 'ing,' then add 'ly' instead. If string length of the given string is less\n",
        "than 3, leave it unchanged?\n",
        "\n",
        "\n",
        "    Sample string: ' abc '\n",
        "    Expected result: ' abcing '\n",
        "    Sample string: ' string '\n",
        "    Expected result: ' stringly '\n"
      ]
    },
    {
      "cell_type": "code",
      "metadata": {
        "id": "29dzvikr7INC",
        "colab_type": "code",
        "outputId": "25ee4ea0-e942-454b-a8c2-0de72ea171eb",
        "colab": {
          "base_uri": "https://localhost:8080/",
          "height": 34
        }
      },
      "source": [
        "string = ' string '\n",
        "string = string.rstrip()\n",
        "[string if len(string)<3 else string+'ly' if string[-3:]=='ing' else string+'ing']"
      ],
      "execution_count": 0,
      "outputs": [
        {
          "output_type": "execute_result",
          "data": {
            "text/plain": [
              "[' stringly']"
            ]
          },
          "metadata": {
            "tags": []
          },
          "execution_count": 28
        }
      ]
    },
    {
      "cell_type": "code",
      "metadata": {
        "id": "4n8vtgkuAl_k",
        "colab_type": "code",
        "colab": {}
      },
      "source": [
        ""
      ],
      "execution_count": 0,
      "outputs": []
    },
    {
      "cell_type": "markdown",
      "metadata": {
        "id": "sPVCiUcb7INQ",
        "colab_type": "text"
      },
      "source": [
        "Q4. Write the Python program to find the first appearance of the\n",
        "substring 'not' and 'poor' from the given string, if 'not' follows the 'poor',\n",
        "replace the whole 'not'...' poor' substring with 'good'.Return the resulting\n",
        "string.\n",
        "\n",
        "    Sample string: 'The lyrics are not that poor!'\n",
        "    'The lyrics are poor!'\n",
        "    Expected Result: 'The lyrics are good!'\n",
        "    'The lyrics are poor!'"
      ]
    },
    {
      "cell_type": "code",
      "metadata": {
        "id": "AnGEerr37INT",
        "colab_type": "code",
        "colab": {}
      },
      "source": [
        "Sample_string = 'The lyrics are not that poor!'"
      ],
      "execution_count": 0,
      "outputs": []
    },
    {
      "cell_type": "markdown",
      "metadata": {
        "id": "CfMhK6tb7INf",
        "colab_type": "text"
      },
      "source": [
        "Q5. Write the Python program to remove the characters which have odd\n",
        "index values of a given string."
      ]
    },
    {
      "cell_type": "code",
      "metadata": {
        "id": "N6ZNjaSW7INh",
        "colab_type": "code",
        "outputId": "d6dec000-7a0a-402c-941a-50a4dab00736",
        "colab": {
          "base_uri": "https://localhost:8080/",
          "height": 34
        }
      },
      "source": [
        "''.join([j for i,j in enumerate(Sample_string) if i%2!=0])"
      ],
      "execution_count": 0,
      "outputs": [
        {
          "output_type": "execute_result",
          "data": {
            "text/plain": [
              "'h yisaentta or'"
            ]
          },
          "metadata": {
            "tags": []
          },
          "execution_count": 35
        }
      ]
    },
    {
      "cell_type": "markdown",
      "metadata": {
        "id": "n5t1VQAy7INu",
        "colab_type": "text"
      },
      "source": [
        "Q6. Write the python program to print the following floating numbers up\n",
        "to 2 decimal places?"
      ]
    },
    {
      "cell_type": "code",
      "metadata": {
        "id": "a9u9QW227INw",
        "colab_type": "code",
        "outputId": "cbc7222e-be24-42fd-bf04-427d7d9d3c22",
        "colab": {
          "base_uri": "https://localhost:8080/",
          "height": 34
        }
      },
      "source": [
        "num = 132.46347845\n",
        "round(num,2)"
      ],
      "execution_count": 0,
      "outputs": [
        {
          "output_type": "execute_result",
          "data": {
            "text/plain": [
              "132.46"
            ]
          },
          "metadata": {
            "tags": []
          },
          "execution_count": 12
        }
      ]
    },
    {
      "cell_type": "markdown",
      "metadata": {
        "id": "bNadZOL17IOC",
        "colab_type": "text"
      },
      "source": [
        "Q7. Write the Python program to format a number with a percentage?"
      ]
    },
    {
      "cell_type": "code",
      "metadata": {
        "id": "6BUwzFC97IOF",
        "colab_type": "code",
        "outputId": "b67c87dc-38c7-4361-c1e2-63d72159a987",
        "colab": {
          "base_uri": "https://localhost:8080/",
          "height": 34
        }
      },
      "source": [
        "num = 10\n",
        "str(num)+\" %\""
      ],
      "execution_count": 0,
      "outputs": [
        {
          "output_type": "execute_result",
          "data": {
            "text/plain": [
              "'10 %'"
            ]
          },
          "metadata": {
            "tags": []
          },
          "execution_count": 37
        }
      ]
    },
    {
      "cell_type": "markdown",
      "metadata": {
        "id": "GTYa9mgz7IOX",
        "colab_type": "text"
      },
      "source": [
        "Q8. Write the Python program to count occurrences of a substring in a\n",
        "String?"
      ]
    },
    {
      "cell_type": "code",
      "metadata": {
        "id": "KINVjeRV7IOa",
        "colab_type": "code",
        "outputId": "72b8c46f-f10a-49d5-e3f5-a1d544a58fb1",
        "colab": {
          "base_uri": "https://localhost:8080/",
          "height": 34
        }
      },
      "source": [
        "string= 'TheQuickBrownFoxisFoxyfox'\n",
        "substr = 'Fox'\n",
        "\n",
        "# Simplest case insensitive: Remove .lower for case senstive\n",
        "string.lower().count(substr.lower())"
      ],
      "execution_count": 0,
      "outputs": [
        {
          "output_type": "execute_result",
          "data": {
            "text/plain": [
              "3"
            ]
          },
          "metadata": {
            "tags": []
          },
          "execution_count": 7
        }
      ]
    },
    {
      "cell_type": "markdown",
      "metadata": {
        "id": "JBg611JU7IOy",
        "colab_type": "text"
      },
      "source": [
        "Q9. Write the Python program to count repeated characters in a string.\n",
        "\n",
        "    Sample string: ' thequickbrownjumpsoverthelazydog '\n",
        "    \n",
        "    Expected output:\n",
        "    o 3\n",
        "    e 3\n",
        "    u 2\n",
        "    h 2\n",
        "    r 2\n",
        "    t 2"
      ]
    },
    {
      "cell_type": "code",
      "metadata": {
        "id": "rtrvY9Fi7IO7",
        "colab_type": "code",
        "outputId": "bbb51498-c663-4dd7-df58-0ef0169d6b66",
        "colab": {
          "base_uri": "https://localhost:8080/",
          "height": 34
        }
      },
      "source": [
        "Sample_string = ' thequickbrownjumpsoverthelazydog '\n",
        "{k:Sample_string.count(k) for k in list(set(Sample_string)) if Sample_string.count(k)>1 and k!=' '  }"
      ],
      "execution_count": 0,
      "outputs": [
        {
          "output_type": "execute_result",
          "data": {
            "text/plain": [
              "{'e': 3, 'h': 2, 'o': 3, 'r': 2, 't': 2, 'u': 2}"
            ]
          },
          "metadata": {
            "tags": []
          },
          "execution_count": 43
        }
      ]
    },
    {
      "cell_type": "markdown",
      "metadata": {
        "id": "NlT4DS7Z7IPL",
        "colab_type": "text"
      },
      "source": [
        "Q10. Write the Python program to print the square and cube symbol in\n",
        "the area of a rectangle and volume of a cylinder?\n",
        "\n",
        "    Sample outputThe area of the rectangle is 1256.66cm2\n",
        "    The volume of the cylinder is 1254.725cm3\n"
      ]
    },
    {
      "cell_type": "code",
      "metadata": {
        "id": "isl_jocs7IPN",
        "colab_type": "code",
        "outputId": "9c017cce-13a4-4f6d-c2c2-506c0e7a46ba",
        "colab": {
          "base_uri": "https://localhost:8080/",
          "height": 51
        }
      },
      "source": [
        "l,b = [2,3.12]\n",
        "print(\"The area of the rectangle is: {}cm3\".format(l*b))\n",
        "\n",
        "l,b,h = [2,3.12,4]\n",
        "print(\"The volume of the cylinder is: {}cm3\".format(l*b*h))"
      ],
      "execution_count": 0,
      "outputs": [
        {
          "output_type": "stream",
          "text": [
            "The area of the rectangle is: 6.24cm3\n",
            "The volume of the cylinder is: 24.96cm3\n"
          ],
          "name": "stdout"
        }
      ]
    },
    {
      "cell_type": "markdown",
      "metadata": {
        "id": "mmgYgsU17IPU",
        "colab_type": "text"
      },
      "source": [
        "Q11. Write the Python program to check if a string contains all letters of\n",
        "the alphabet?"
      ]
    },
    {
      "cell_type": "code",
      "metadata": {
        "id": "TuBrA10o7IPV",
        "colab_type": "code",
        "outputId": "eebba3ea-08c4-49ea-815d-1fcfa6c0ce77",
        "colab": {
          "base_uri": "https://localhost:8080/",
          "height": 34
        }
      },
      "source": [
        "len([True for i in 'abcdefghijklmnopqrstuvwxyz' if Sample_string.lower().find(i)!=-1])==26"
      ],
      "execution_count": 0,
      "outputs": [
        {
          "output_type": "execute_result",
          "data": {
            "text/plain": [
              "False"
            ]
          },
          "metadata": {
            "tags": []
          },
          "execution_count": 56
        }
      ]
    },
    {
      "cell_type": "markdown",
      "metadata": {
        "id": "tAfmpb3p7IPa",
        "colab_type": "text"
      },
      "source": [
        "Q12. Write the Python program to find the second most repeated word\n",
        "in a given string?"
      ]
    },
    {
      "cell_type": "code",
      "metadata": {
        "id": "OoUqubFS7IPb",
        "colab_type": "code",
        "outputId": "689c1e92-3ebf-4ea9-92c9-58fd524c7e5e",
        "colab": {
          "base_uri": "https://localhost:8080/",
          "height": 34
        }
      },
      "source": [
        "#[(k,Sample_string.split(\" \").count(k)) for k in Sample_string.split(\" \")]\n",
        "list1 = [(k,v) for k,v in {k:Sample_string.split(\" \").count(k) for k in Sample_string.split(\" \")}.items()]\n",
        "list1.sort(key= lambda x:x[1])\n",
        "list1[-2]"
      ],
      "execution_count": 0,
      "outputs": [
        {
          "output_type": "execute_result",
          "data": {
            "text/plain": [
              "('thequickbrownjumpsoverthelazydog', 1)"
            ]
          },
          "metadata": {
            "tags": []
          },
          "execution_count": 70
        }
      ]
    },
    {
      "cell_type": "markdown",
      "metadata": {
        "id": "ziI5GUMu7IPh",
        "colab_type": "text"
      },
      "source": [
        "Q13. Write the Python program to find the minimum window in the given\n",
        "string, which will contains all the characters of another given\n",
        "strings?\n",
        "\n",
        "    Example 1\n",
        "    Input : string1 = \" PRWSOERIUSFK \"\n",
        "    string2 = \" OSU \"\n",
        "    Output: Minimum window is \"OERIUS\""
      ]
    },
    {
      "cell_type": "code",
      "metadata": {
        "id": "NkhWoS9B7IPi",
        "colab_type": "code",
        "outputId": "5d3df23c-75ba-448f-d26f-f2ad6b2b4138",
        "colab": {
          "base_uri": "https://localhost:8080/",
          "height": 34
        }
      },
      "source": [
        "# set(\"ORI\")==set(\"OIR\")"
      ],
      "execution_count": 0,
      "outputs": [
        {
          "output_type": "execute_result",
          "data": {
            "text/plain": [
              "True"
            ]
          },
          "metadata": {
            "tags": []
          },
          "execution_count": 11
        }
      ]
    },
    {
      "cell_type": "markdown",
      "metadata": {
        "id": "isWffAHy7IPm",
        "colab_type": "text"
      },
      "source": [
        "Q14. Write the Python program to count number of substrings from a\n",
        "given string of lowercase alphabets with exactly k distinct (given)\n",
        "characters?\n",
        "\n",
        "    Input a string (lowercase alphabets): wolf\n",
        "    Input k: 4\n",
        "    Number of substrings with exactly 4 distinct characters: 1"
      ]
    },
    {
      "cell_type": "code",
      "metadata": {
        "id": "aAGxbMO57IPn",
        "colab_type": "code",
        "outputId": "e064e795-c7a0-4ea6-c4f9-b8d8d4941369",
        "colab": {
          "base_uri": "https://localhost:8080/",
          "height": 34
        }
      },
      "source": [
        "# Simplest approach\n",
        "string = 'abcd'\n",
        "k=4\n",
        "sum([1 for i in range(len(string)) for j in range(i,len(string)) if len(set(string[i:j+1]))==k])"
      ],
      "execution_count": 0,
      "outputs": [
        {
          "output_type": "execute_result",
          "data": {
            "text/plain": [
              "1"
            ]
          },
          "metadata": {
            "tags": []
          },
          "execution_count": 6
        }
      ]
    },
    {
      "cell_type": "markdown",
      "metadata": {
        "id": "fR0Ra59Q7IPr",
        "colab_type": "text"
      },
      "source": [
        "Q15. Write the Python program to count number of substrings with same\n",
        "first and last characters of the given string?\n",
        "\n",
        "    Input a string: abcd\n",
        "    4\n"
      ]
    },
    {
      "cell_type": "code",
      "metadata": {
        "id": "1d4rhYJg7IPu",
        "colab_type": "code",
        "outputId": "8d625447-f51e-451a-e51f-fd0e2605f3f8",
        "colab": {
          "base_uri": "https://localhost:8080/",
          "height": 51
        }
      },
      "source": [
        "# Simplest approach\n",
        "string = 'abcda'\n",
        "\n",
        "# Easy to understand\n",
        "print(sum([1 for i in range(len(string)) for j in range(i,len(string)) if string[i:j+1][0]==string[i:j+1][-1] ]))\n",
        "\n",
        "# Equivalent\n",
        "print(sum([1 for i in range(len(string)) for j in range(i,len(string)) if string[i]==string[j] ]))"
      ],
      "execution_count": 13,
      "outputs": [
        {
          "output_type": "stream",
          "text": [
            "6\n",
            "6\n"
          ],
          "name": "stdout"
        }
      ]
    },
    {
      "cell_type": "markdown",
      "metadata": {
        "id": "1oYhey3QAn5B",
        "colab_type": "text"
      },
      "source": [
        "#### Best Approach:\n",
        "As the total count just depends on frequencies of each character in (A-Z) the original string we can just count the freq of Each Character.\n",
        "\n",
        "This would bring down the time complexity from O(n2) to O(n)(This would fail if string contains anything other then the 26 alphabets) \n",
        "\n",
        "For example in string abcab, frequency of ‘a’ is 2 and substrings contributing to answer are a, abca and a respectively, a total of 3, which is calculated by (frequency of ‘a’+1)C2."
      ]
    },
    {
      "cell_type": "code",
      "metadata": {
        "id": "Pfx-grOWpLEC",
        "colab_type": "code",
        "colab": {
          "base_uri": "https://localhost:8080/",
          "height": 34
        },
        "outputId": "a40f1211-6ad3-483b-ec22-2fc154d02ff8"
      },
      "source": [
        "# Best Approch\n",
        "string = string.lower()\n",
        "sum([string.count(alphabet)*(string.count(alphabet)+1)/2 for alphabet in ('abcdefghijklmnopqrstuvwxyz')])"
      ],
      "execution_count": 18,
      "outputs": [
        {
          "output_type": "execute_result",
          "data": {
            "text/plain": [
              "6.0"
            ]
          },
          "metadata": {
            "tags": []
          },
          "execution_count": 18
        }
      ]
    },
    {
      "cell_type": "markdown",
      "metadata": {
        "id": "B0oYuHMF7IPx",
        "colab_type": "text"
      },
      "source": [
        "## Great Job!"
      ]
    }
  ]
}